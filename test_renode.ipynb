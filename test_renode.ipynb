{
  "cells": [
    {
      "cell_type": "markdown",
      "id": "df94654b",
      "metadata": {
        "cell_marker": "\"\"\"",
        "id": "df94654b"
      },
      "source": [
        "[![Renode](https://dl.antmicro.com/projects/renode/renode.svg)](https://renode.io)\n",
        "\n",
        "[![Run in Google Colab](https://img.shields.io/badge/-Run%20in%20Google%20colab-%23007ded?logo=google-colab&logoColor=white&style=for-the-badge)](https://colab.research.google.com/github/antmicro/test-colabs/blob/main/boards/nucleo_l552ze_q_hello_world.ipynb) [![View ipynb](https://img.shields.io/badge/-View%20ipynb%20source-%23007ded?logo=jupyter&logoColor=white&style=for-the-badge)](https://github.com/antmicro/test-colabs/blob/main/boards/nucleo_l552ze_q_hello_world.ipynb) [![View Python source](https://img.shields.io/badge/-View%20Python%20source-%23007ded?logo=python&logoColor=white&style=for-the-badge)](https://github.com/antmicro/test-colabs/blob/main/boards/nucleo_l552ze_q_hello_world.py)"
      ]
    },
    {
      "cell_type": "markdown",
      "id": "06336ea9",
      "metadata": {
        "cell_marker": "\"\"\"",
        "id": "06336ea9"
      },
      "source": [
        "## Install requirements"
      ]
    },
    {
      "cell_type": "code",
      "execution_count": null,
      "id": "f5aeae01",
      "metadata": {
        "id": "f5aeae01"
      },
      "outputs": [],
      "source": [
        "! pip install -q git+https://github.com/antmicro/renode-colab-tools.git\n",
        "! pip install -q git+https://github.com/antmicro/renode-run.git\n",
        "! pip install -q git+https://github.com/antmicro/pyrenode.git\n",
        "! renode-run download"
      ]
    },
    {
      "cell_type": "markdown",
      "id": "2c0a6453",
      "metadata": {
        "id": "2c0a6453"
      },
      "source": [
        "## Start Renode"
      ]
    },
    {
      "cell_type": "code",
      "execution_count": null,
      "id": "a3c70654",
      "metadata": {
        "id": "a3c70654"
      },
      "outputs": [],
      "source": [
        "from pyrenode import connect_renode, get_keywords\n",
        "connect_renode()\n",
        "get_keywords()"
      ]
    },
    {
      "cell_type": "markdown",
      "id": "8455342b",
      "metadata": {
        "id": "8455342b"
      },
      "source": [
        "## Custom stuff\n",
        "\n",
        "\n"
      ]
    },
    {
      "cell_type": "code",
      "source": [
        "\n",
        "from requests import get\n",
        "filename = get(\"http://172.28.0.12:9000/api/sessions\").json()[0][\"notebook\"][\"path\"].split(\"_MARKER_\")[1]\n",
        "filename"
      ],
      "metadata": {
        "id": "duG711JJH_9q",
        "outputId": "d4bcc749-f171-4ea0-f028-d868cb3d558c",
        "colab": {
          "base_uri": "https://localhost:8080/",
          "height": 37
        }
      },
      "id": "duG711JJH_9q",
      "execution_count": 11,
      "outputs": [
        {
          "output_type": "execute_result",
          "data": {
            "text/plain": [
              "'arbitralnedane'"
            ],
            "application/vnd.google.colaboratory.intrinsic+json": {
              "type": "string"
            }
          },
          "metadata": {},
          "execution_count": 11
        }
      ]
    }
  ],
  "metadata": {
    "jupytext": {
      "cell_metadata_filter": "-all",
      "main_language": "python",
      "notebook_metadata_filter": "-all"
    },
    "kernelspec": {
      "display_name": "Python 3",
      "name": "python3"
    },
    "language_info": {
      "name": "python"
    },
    "colab": {
      "provenance": []
    }
  },
  "nbformat": 4,
  "nbformat_minor": 5
}